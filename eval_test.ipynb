{
 "cells": [
  {
   "cell_type": "code",
   "execution_count": 34,
   "metadata": {},
   "outputs": [],
   "source": [
    "from ranx import Qrels, Run\n",
    "\n",
    "qrels = Qrels.from_file(\"qrels.rag24.raggy-dev.txt\")"
   ]
  },
  {
   "cell_type": "code",
   "execution_count": 35,
   "metadata": {},
   "outputs": [],
   "source": [
    "run_splade = Run.from_file(\"raggy-dev/raggy-dev_splade.txt\")"
   ]
  },
  {
   "cell_type": "code",
   "execution_count": 36,
   "metadata": {},
   "outputs": [],
   "source": [
    "run_bge = Run.from_file(\"raggy-dev/raggy-bge_results.txt\")"
   ]
  },
  {
   "cell_type": "code",
   "execution_count": 37,
   "metadata": {},
   "outputs": [],
   "source": [
    "run_gemini = Run.from_file(\"raggy-dev/gemini_raggydev_rerank.txt\")"
   ]
  },
  {
   "cell_type": "code",
   "execution_count": 51,
   "metadata": {},
   "outputs": [],
   "source": [
    "run_jina = Run.from_file(\"raggy-dev/raggy-jina_results.txt\")"
   ]
  },
  {
   "cell_type": "code",
   "execution_count": 6,
   "metadata": {},
   "outputs": [],
   "source": [
    "def modify_run_docids(run):\n",
    "    return {\n",
    "        query_id: {\n",
    "            doc_id.split('#')[0]: score\n",
    "            for doc_id, score in query_results.items()\n",
    "        }\n",
    "        for query_id, query_results in run.to_dict().items()\n",
    "    }"
   ]
  },
  {
   "cell_type": "code",
   "execution_count": 38,
   "metadata": {},
   "outputs": [],
   "source": [
    "def modify_run_docids(run):\n",
    "    modified_run = {}\n",
    "    for query_id, query_results in run.to_dict().items():\n",
    "        modified_query_results = {}\n",
    "        for doc_id, score in query_results.items():\n",
    "            base_doc_id = doc_id.split('#')[0]\n",
    "            if base_doc_id not in modified_query_results or score > modified_query_results[base_doc_id]:\n",
    "                modified_query_results[base_doc_id] = score\n",
    "        modified_run[query_id] = modified_query_results\n",
    "    return modified_run"
   ]
  },
  {
   "cell_type": "code",
   "execution_count": 39,
   "metadata": {},
   "outputs": [],
   "source": [
    "run_splade = Run.from_dict(modify_run_docids(run_splade))"
   ]
  },
  {
   "cell_type": "code",
   "execution_count": 40,
   "metadata": {},
   "outputs": [],
   "source": [
    "run_bge = Run.from_dict(modify_run_docids(run_bge))"
   ]
  },
  {
   "cell_type": "code",
   "execution_count": 41,
   "metadata": {},
   "outputs": [],
   "source": [
    "run_gemini = Run.from_dict(modify_run_docids(run_gemini))"
   ]
  },
  {
   "cell_type": "code",
   "execution_count": 52,
   "metadata": {},
   "outputs": [],
   "source": [
    "run_jina = Run.from_dict(modify_run_docids(run_jina))"
   ]
  },
  {
   "cell_type": "code",
   "execution_count": 53,
   "metadata": {},
   "outputs": [],
   "source": [
    "from ranx import evaluate"
   ]
  },
  {
   "cell_type": "code",
   "execution_count": 43,
   "metadata": {},
   "outputs": [
    {
     "data": {
      "text/plain": [
       "{'ndcg@10': np.float64(0.5426624354049229),\n",
       " 'map': np.float64(0.22604420645827805),\n",
       " 'mrr': np.float64(0.8679861111111111),\n",
       " 'precision@10': np.float64(0.625),\n",
       " 'recall@100': np.float64(0.35705680734407924)}"
      ]
     },
     "execution_count": 43,
     "metadata": {},
     "output_type": "execute_result"
    }
   ],
   "source": [
    "evaluate(qrels, run_splade, [\"ndcg@10\", \"map\", \"mrr\", \"precision@10\", \"recall@100\"])"
   ]
  },
  {
   "cell_type": "code",
   "execution_count": 44,
   "metadata": {},
   "outputs": [
    {
     "data": {
      "text/plain": [
       "{'ndcg@10': np.float64(0.23530983618429158),\n",
       " 'map': np.float64(0.14789757286853275),\n",
       " 'mrr': np.float64(0.4856343089526709),\n",
       " 'precision@10': np.float64(0.3358333333333333),\n",
       " 'recall@100': np.float64(0.3445041555180156)}"
      ]
     },
     "execution_count": 44,
     "metadata": {},
     "output_type": "execute_result"
    }
   ],
   "source": [
    "evaluate(qrels, run_bge, [\"ndcg@10\", \"map\", \"mrr\", \"precision@10\", \"recall@100\"])"
   ]
  },
  {
   "cell_type": "code",
   "execution_count": 45,
   "metadata": {},
   "outputs": [
    {
     "data": {
      "text/plain": [
       "{'ndcg@10': np.float64(0.567565964807014),\n",
       " 'map': np.float64(0.19183424551258313),\n",
       " 'mrr': np.float64(0.8817272347535504),\n",
       " 'precision@10': np.float64(0.6491666666666667),\n",
       " 'recall@100': np.float64(0.28179310296757626)}"
      ]
     },
     "execution_count": 45,
     "metadata": {},
     "output_type": "execute_result"
    }
   ],
   "source": [
    "evaluate(qrels, run_gemini, [\"ndcg@10\", \"map\", \"mrr\", \"precision@10\", \"recall@100\"])"
   ]
  },
  {
   "cell_type": "code",
   "execution_count": 54,
   "metadata": {},
   "outputs": [
    {
     "data": {
      "text/plain": [
       "{'ndcg@10': np.float64(0.23367470173791194),\n",
       " 'map': np.float64(0.14402895958499135),\n",
       " 'mrr': np.float64(0.4928165351299738),\n",
       " 'precision@10': np.float64(0.33249999999999996),\n",
       " 'recall@100': np.float64(0.34220160424356255)}"
      ]
     },
     "execution_count": 54,
     "metadata": {},
     "output_type": "execute_result"
    }
   ],
   "source": [
    "evaluate(qrels, run_jina, [\"ndcg@10\", \"map\", \"mrr\", \"precision@10\", \"recall@100\"])"
   ]
  },
  {
   "cell_type": "code",
   "execution_count": 46,
   "metadata": {},
   "outputs": [],
   "source": [
    "from ranx import compare"
   ]
  },
  {
   "cell_type": "code",
   "execution_count": 63,
   "metadata": {},
   "outputs": [],
   "source": [
    "report = compare(\n",
    "    qrels=qrels,\n",
    "    runs=[run_splade, run_jina, run_bge, run_gemini],\n",
    "    metrics=[\"ndcg@10\", \"map\", \"mrr\", \"precision@10\", \"recall@100\"],\n",
    "    rounding_digits=4,\n",
    "    show_percentages=True,\n",
    ")"
   ]
  },
  {
   "cell_type": "code",
   "execution_count": 59,
   "metadata": {},
   "outputs": [],
   "source": [
    "report.model_names = [\"SPLADEv3\", \"JINA-v2\", \"BAAI/BGE\", \"Gemini\"]"
   ]
  },
  {
   "cell_type": "code",
   "execution_count": 64,
   "metadata": {},
   "outputs": [
    {
     "name": "stdout",
     "output_type": "stream",
     "text": [
      "========================\n",
      "% Add in preamble\n",
      "\\usepackage{graphicx}\n",
      "\\usepackage{booktabs}\n",
      "========================\n",
      "\n",
      "\n",
      "% To change the table size, act on the resizebox argument `0.8`.\n",
      "\\begin{table*}[ht]\n",
      "\\centering\n",
      "\\caption{\n",
      "Overall effectiveness of the models.\n",
      "The best results are highlighted in boldface.\n",
      "Superscripts denote significant differences in paired Student's t-test with $p \\le 0.01$.\n",
      "}\n",
      "\\resizebox{0.8\\textwidth}{!}{\n",
      "\\begin{tabular}{c|l|c|c|c|c|c}\n",
      "\\toprule\n",
      "\\textbf{\\#}\n",
      "& \\textbf{Model}\n",
      "& \\textbf{NDCG@10}\n",
      "& \\textbf{MAP}\n",
      "& \\textbf{MRR}\n",
      "& \\textbf{P@10}\n",
      "& \\textbf{Recall@100} \\\\ \n",
      "\\midrule\n",
      "a &\n",
      "run\\_1 &\n",
      "54.27$^{bc}$\\hphantom{$^{d}$} &\n",
      "\\textbf{22.60}$^{bcd}$\\hphantom{} &\n",
      "86.80$^{bc}$\\hphantom{$^{d}$} &\n",
      "62.50$^{bc}$\\hphantom{$^{d}$} &\n",
      "\\textbf{35.71}$^{bcd}$\\hphantom{} \\\\\n",
      "b &\n",
      "run\\_2 &\n",
      "23.37\\hphantom{$^{acd}$} &\n",
      "14.40\\hphantom{$^{acd}$} &\n",
      "49.28\\hphantom{$^{acd}$} &\n",
      "33.25\\hphantom{$^{acd}$} &\n",
      "34.22$^{d}$\\hphantom{$^{ac}$} \\\\\n",
      "c &\n",
      "run\\_3 &\n",
      "23.53\\hphantom{$^{abd}$} &\n",
      "14.79\\hphantom{$^{abd}$} &\n",
      "48.56\\hphantom{$^{abd}$} &\n",
      "33.58\\hphantom{$^{abd}$} &\n",
      "34.45$^{d}$\\hphantom{$^{ab}$} \\\\\n",
      "d &\n",
      "run\\_4 &\n",
      "\\textbf{56.76}$^{bc}$\\hphantom{$^{a}$} &\n",
      "19.18$^{bc}$\\hphantom{$^{a}$} &\n",
      "\\textbf{88.17}$^{bc}$\\hphantom{$^{a}$} &\n",
      "\\textbf{64.92}$^{bc}$\\hphantom{$^{a}$} &\n",
      "28.18\\hphantom{$^{abc}$} \\\\\n",
      "\\bottomrule\n",
      "\\end{tabular}\n",
      "}\n",
      "\\label{tab:results}\n",
      "\\end{table*}\n"
     ]
    }
   ],
   "source": [
    "print(report.to_latex())"
   ]
  },
  {
   "cell_type": "code",
   "execution_count": 18,
   "metadata": {},
   "outputs": [
    {
     "data": {
      "text/plain": [
       "{}"
      ]
     },
     "execution_count": 18,
     "metadata": {},
     "output_type": "execute_result"
    }
   ],
   "source": [
    "run.mean_scores"
   ]
  }
 ],
 "metadata": {
  "kernelspec": {
   "display_name": ".venv",
   "language": "python",
   "name": "python3"
  },
  "language_info": {
   "codemirror_mode": {
    "name": "ipython",
    "version": 3
   },
   "file_extension": ".py",
   "mimetype": "text/x-python",
   "name": "python",
   "nbconvert_exporter": "python",
   "pygments_lexer": "ipython3",
   "version": "3.9.19"
  }
 },
 "nbformat": 4,
 "nbformat_minor": 2
}
